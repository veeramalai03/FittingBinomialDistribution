{
  "metadata": {
    "kernelspec": {
      "display_name": "Pyolite",
      "language": "python",
      "name": "python"
    },
    "language_info": {
      "codemirror_mode": {
        "name": "python",
        "version": 3
      },
      "file_extension": ".py",
      "mimetype": "text/x-python",
      "name": "python",
      "nbconvert_exporter": "python",
      "pygments_lexer": "ipython3",
      "version": "3.8"
    }
  },
  "nbformat_minor": 5,
  "nbformat": 4,
  "cells": [
    {
      "cell_type": "code",
      "source": "import numpy as np\nimport math\nimport scipy.stats\n\nX=[0,1,2,3,4,5,6]\nf=[13,25,52,68,32,16,4]\nn=6\nN=np.sum(f)\nmean=np.inner(X,f)/N\np=mean/n\nq=1-p\nPr=list(); E=list(); xi=list()\nprint(\"  X P(X=x) Obs.Fr  Ex.Fre   xi \")\nprint(\"----------------------------------\")\nfor x in range(7):\n    c=math.factorial(n)/(math.factorial(x)*math.factorial(n-x))\n    Pr.append(c*p*x*q*(n-x))\n    E.append(Pr[x]*N)\n    xi.append((f[x]-E[x])**2/E[x])\n    print(\"%2.2f %2.2f  %4.2f   %3.2f  %3.2f\"%(x,Pr[x],f[x],E[x],xi[x]))\nprint(\"----------------------------------\")\ncal_chi2=np.sum(xi)\nprint(\"Calculated value of Chi square is %4.2f\"%cal_chi2)\ntab_chi2=scipy.stats.chi2.ppf(1-.01, df=n)\nprint(\"Table value of Chi square at 1  level is %4.2f\"%tab_chi2)\nif cal_chi2<tab_chi2:\n    print(\"The given data can be fitted in binomial distribution at 1% LOS\")\nelse:\n    print(\"The given data cannot be fitted in binomial distribution at 1% LOS\")",
      "metadata": {
        "trusted": true
      },
      "execution_count": 1,
      "outputs": [
        {
          "name": "stdout",
          "text": "  X P(X=x) Obs.Fr  Ex.Fre   xi \n----------------------------------\n0.00 0.00  13.00   0.00  inf\n1.00 7.42  25.00   1558.23  1508.64\n2.00 29.68  52.00   6232.94  6129.37\n3.00 44.52  68.00   9349.40  9213.90\n4.00 29.68  32.00   6232.94  6169.10\n5.00 7.42  16.00   1558.23  1526.40\n6.00 0.00  4.00   0.00  inf\n----------------------------------\nCalculated value of Chi square is  inf\nTable value of Chi square at 1  level is 16.81\nThe given data cannot be fitted in binomial distribution at 1% LOS\n",
          "output_type": "stream"
        }
      ],
      "id": "d34e9b91-d68b-4b7b-86c2-739639019ae8"
    },
    {
      "cell_type": "code",
      "source": "",
      "metadata": {},
      "execution_count": null,
      "outputs": [],
      "id": "20ca657a-f2cd-433a-b680-2c3fed48f864"
    }
  ]
}